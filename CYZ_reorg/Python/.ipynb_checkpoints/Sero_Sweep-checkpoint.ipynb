{
 "cells": [
  {
   "cell_type": "markdown",
   "metadata": {},
   "source": [
    "# Parameter Sweep\n",
    "Last Edit: 07.19.2020 CYZ\n",
    "This code perfoms a parameter sweep"
   ]
  },
  {
   "cell_type": "code",
   "execution_count": 1,
   "metadata": {},
   "outputs": [],
   "source": [
    "import numpy as np\n",
    "import pandas as pd\n",
    "from scipy import integrate\n",
    "\n",
    "from utils.seir_model import seir_model_shields_rcfc_nolatent_time\n",
    "\n",
    "# Load Default Parms\n"
   ]
  },
  {
   "cell_type": "markdown",
   "metadata": {},
   "source": [
    "# Parameters"
   ]
  },
  {
   "cell_type": "code",
   "execution_count": 2,
   "metadata": {},
   "outputs": [],
   "source": [
    "# Obtain defaults by executing 'set_default_parms.py' script\n",
    "exec(open('utils/set_default_parms.py').read())\n",
    "\n",
    "# returns: pars, epiPars, contactPars, intvPars, inits, X0"
   ]
  },
  {
   "cell_type": "markdown",
   "metadata": {},
   "source": [
    "# Run Baseline Model"
   ]
  },
  {
   "cell_type": "code",
   "execution_count": 3,
   "metadata": {
    "scrolled": true
   },
   "outputs": [
    {
     "name": "stderr",
     "output_type": "stream",
     "text": [
      "/mnt/c/Users/czhao/Documents/CYZ Github/Weitz Group/COVID-19/Lopman COVID collab/Serological_Shielding/Python/utils/seir_model.py:107: FutureWarning: Using a non-tuple sequence for multidimensional indexing is deprecated; use `arr[tuple(seq)]` instead of `arr[seq]`. In the future this will be interpreted as an array index, `arr[np.array(seq)]`, which will result either in an error or a different result.\n",
      "  CM_School_Comb_reopen[temp_even_10x10_Indices] = contactPars['SchoolContacts_5x5'].T # meshgrid transposed\n"
     ]
    }
   ],
   "source": [
    "# Model\n",
    "t0 = 0\n",
    "tf = pars['nDays']\n",
    "tstep = 1 # day\n",
    "t = np.arange(t0,tf+tstep, tstep)\n",
    "combPars = list((pars, epiPars, contactPars, intvPars))\n",
    "\n",
    "\n",
    "# Run Model\n",
    "model_out = integrate.odeint(seir_model_shields_rcfc_nolatent_time\n",
    "                             , X0\n",
    "                             , t\n",
    "                             , args=(combPars,))#, rtol = 1, hmax=0.1, )"
   ]
  },
  {
   "cell_type": "markdown",
   "metadata": {},
   "source": [
    "# Run Parameter Sweep"
   ]
  },
  {
   "cell_type": "code",
   "execution_count": 4,
   "metadata": {},
   "outputs": [],
   "source": [
    "# Parameter Sweep\n",
    "cvals = np.arange(3)/2\n",
    "    #cvals = np.arange(9)/8\n",
    "    #cvals = np.arange(5)/4\n",
    "    \n",
    "test_rates = np.append(np.array([0]), np.logspace(3,7, 5))\n",
    "    #test_rates = np.append(np.array([0]), np.logspace(1,7, 13))\n",
    "\n",
    "alphas = np.array([4])\n",
    "    #alphas = np.array([0, 0.5, 1, 2, 4, 10, 20])\n",
    "\n",
    "specificities = np.array([0.96])\n",
    "    #specificities = np.array([0.5, 0.75, 0.85, 0.90, 0.96, 1])\n",
    "\n",
    "sensitivities = np.array([0.94])\n",
    "    #sensitivities = np.array([0.5, 0.94])\n",
    "\n",
    "sweep = np.array([(i_c, i_test, i_alpha, i_spec, i_sens) for i_c in cvals for i_test in test_rates for i_alpha in alphas for i_spec in specificities for i_sens in sensitivities])"
   ]
  },
  {
   "cell_type": "code",
   "execution_count": 5,
   "metadata": {},
   "outputs": [
    {
     "name": "stdout",
     "output_type": "stream",
     "text": [
      "0.0\n",
      "5.555555555555555\n",
      "11.11111111111111\n",
      "16.666666666666664\n",
      "22.22222222222222\n",
      "27.77777777777778\n",
      "33.33333333333333\n",
      "38.88888888888889\n",
      "44.44444444444444\n",
      "50.0\n",
      "55.55555555555556\n",
      "61.111111111111114\n",
      "66.66666666666666\n",
      "72.22222222222221\n",
      "77.77777777777779\n",
      "83.33333333333334\n",
      "88.88888888888889\n",
      "94.44444444444444\n"
     ]
    }
   ],
   "source": [
    "df_sweep = np.zeros((sweep.shape[0], 9))\n",
    "for i in np.arange(sweep.shape[0]):\n",
    "    print(i/sweep.shape[0]*100)\n",
    "    \n",
    "    # Load ins\n",
    "    c_in, test_in, alpha_in, spec_in, sens_in = sweep[i,:]\n",
    "    \n",
    "    # Save to combPars\n",
    "    intvPars['c'] = c_in\n",
    "    intvPars['daily_tests'] = test_in\n",
    "    intvPars['alpha'] = alpha_in\n",
    "    intvPars['specificity'] = spec_in\n",
    "    intvPars['sensitivity'] = sens_in\n",
    "    combPars = list((pars, epiPars, contactPars, intvPars))\n",
    "    \n",
    "    # Run Model\n",
    "    model_out = integrate.odeint(seir_model_shields_rcfc_nolatent_time, X0, t, args=(combPars,))#, rtol = 1, hmax=0.1, )\n",
    "\n",
    "    # Stats\n",
    "    tot_deaths = np.sum(model_out[-1, pars['D_ids']])\n",
    "    \n",
    "    tot_infec = np.sum(model_out[-1,pars['Isym_ids']]\n",
    "                     + model_out[-1,pars['Iasym_ids']]\n",
    "                     + model_out[-1,pars['Hsub_ids']]\n",
    "                     + model_out[-1,pars['Hcri_ids']]\n",
    "                     + model_out[-1,pars['D_ids']]\n",
    "                     + model_out[-1,pars['R_ids']]\n",
    "                     + model_out[-1,pars['Isym_pos_ids']]\n",
    "                     + model_out[-1,pars['Iasym_pos_ids']]\n",
    "                     + model_out[-1,pars['R_pos_ids']])\n",
    "    \n",
    "    tot_cases = np.sum(model_out[-1,pars['Hsub_ids']]\n",
    "                     + model_out[-1,pars['Hcri_ids']]\n",
    "                     + model_out[-1,pars['D_ids']]\n",
    "                     + model_out[-1,pars['Isym_pos_ids']]\n",
    "                     + model_out[-1,pars['Iasym_pos_ids']]\n",
    "                     + model_out[-1,pars['R_pos_ids']])\n",
    "    \n",
    "    tot_released = np.sum(model_out[-1,pars['S_pos_ids']]\n",
    "                      + model_out[-1,pars['E_pos_ids']]\n",
    "                      + model_out[-1,pars['Isym_pos_ids']]\n",
    "                      + model_out[-1,pars['Iasym_pos_ids']]\n",
    "                      + model_out[-1,pars['R_pos_ids']])\n",
    "    \n",
    "    df_sweep[i,:] = [tot_deaths, tot_infec, tot_cases, tot_released, c_in, test_in, alpha_in, spec_in, sens_in]"
   ]
  },
  {
   "cell_type": "code",
   "execution_count": 6,
   "metadata": {},
   "outputs": [],
   "source": [
    "# Save Result\n",
    "df_out = pd.DataFrame(df_sweep)\n",
    "df_out.columns = ['Deaths', 'Infected', 'Known_Infection', 'Released', 'c', 'test_rate', 'alpha', 'specificity', 'sensitivity']\n",
    "df_out.to_csv('04_24_2020_ParmSweep_Python.csv')"
   ]
  },
  {
   "cell_type": "code",
   "execution_count": null,
   "metadata": {},
   "outputs": [],
   "source": []
  },
  {
   "cell_type": "code",
   "execution_count": null,
   "metadata": {},
   "outputs": [],
   "source": []
  },
  {
   "cell_type": "code",
   "execution_count": null,
   "metadata": {},
   "outputs": [],
   "source": []
  },
  {
   "cell_type": "code",
   "execution_count": null,
   "metadata": {},
   "outputs": [],
   "source": []
  },
  {
   "cell_type": "code",
   "execution_count": null,
   "metadata": {},
   "outputs": [],
   "source": []
  },
  {
   "cell_type": "code",
   "execution_count": null,
   "metadata": {},
   "outputs": [],
   "source": []
  },
  {
   "cell_type": "code",
   "execution_count": null,
   "metadata": {},
   "outputs": [],
   "source": []
  },
  {
   "cell_type": "code",
   "execution_count": null,
   "metadata": {},
   "outputs": [],
   "source": []
  },
  {
   "cell_type": "code",
   "execution_count": null,
   "metadata": {},
   "outputs": [],
   "source": []
  }
 ],
 "metadata": {
  "kernelspec": {
   "display_name": "Python 3",
   "language": "python",
   "name": "python3"
  },
  "language_info": {
   "codemirror_mode": {
    "name": "ipython",
    "version": 3
   },
   "file_extension": ".py",
   "mimetype": "text/x-python",
   "name": "python",
   "nbconvert_exporter": "python",
   "pygments_lexer": "ipython3",
   "version": "3.7.3"
  }
 },
 "nbformat": 4,
 "nbformat_minor": 2
}
