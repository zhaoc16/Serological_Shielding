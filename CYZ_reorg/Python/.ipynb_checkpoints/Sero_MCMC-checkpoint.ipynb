{
 "cells": [
  {
   "cell_type": "markdown",
   "metadata": {},
   "source": [
    "# Parameter Sweep\n",
    "Last Edit: 07.19.2020 CYZ\n",
    "This code perfoms a parameter sweep"
   ]
  },
  {
   "cell_type": "code",
   "execution_count": 1,
   "metadata": {},
   "outputs": [],
   "source": [
    "import numpy as np\n",
    "import pandas as pd\n",
    "from scipy import integrate\n",
    "\n",
    "from utils.seir_model import seir_model_shields_rcfc_nolatent_time\n",
    "\n",
    "# Load Default Parms\n"
   ]
  },
  {
   "cell_type": "markdown",
   "metadata": {},
   "source": [
    "# Parameters"
   ]
  },
  {
   "cell_type": "code",
   "execution_count": 2,
   "metadata": {},
   "outputs": [],
   "source": [
    "# Obtain defaults by executing 'set_default_parms.py' script\n",
    "exec(open('utils/set_default_parms.py').read())\n",
    "\n",
    "# returns: pars, epiPars, contactPars, intvPars, inits, X0"
   ]
  },
  {
   "cell_type": "markdown",
   "metadata": {},
   "source": [
    "# Run Baseline Model"
   ]
  },
  {
   "cell_type": "code",
   "execution_count": 3,
   "metadata": {
    "scrolled": true
   },
   "outputs": [
    {
     "name": "stderr",
     "output_type": "stream",
     "text": [
      "/mnt/c/Users/czhao/Documents/CYZ Github/Weitz Group/COVID-19/Lopman COVID collab/Serological_Shielding/Python/utils/seir_model.py:107: FutureWarning: Using a non-tuple sequence for multidimensional indexing is deprecated; use `arr[tuple(seq)]` instead of `arr[seq]`. In the future this will be interpreted as an array index, `arr[np.array(seq)]`, which will result either in an error or a different result.\n",
      "  CM_School_Comb_reopen[temp_even_10x10_Indices] = contactPars['SchoolContacts_5x5'].T # meshgrid transposed\n"
     ]
    }
   ],
   "source": [
    "# Model\n",
    "t0 = 0\n",
    "tf = pars['nDays']\n",
    "tstep = 1 # day\n",
    "t = np.arange(t0,tf+tstep, tstep)\n",
    "combPars = list((pars, epiPars, contactPars, intvPars))\n",
    "\n",
    "\n",
    "# Run Model\n",
    "model_out = integrate.odeint(seir_model_shields_rcfc_nolatent_time\n",
    "                             , X0\n",
    "                             , t\n",
    "                             , args=(combPars,))#, rtol = 1, hmax=0.1, )"
   ]
  },
  {
   "cell_type": "markdown",
   "metadata": {},
   "source": [
    "# Get Outputs"
   ]
  },
  {
   "cell_type": "code",
   "execution_count": 7,
   "metadata": {},
   "outputs": [],
   "source": [
    "tot_deaths = np.sum(model_out[-1, pars['D_ids']])\n",
    "\n",
    "tot_infec = np.sum(model_out[-1,pars['Isym_ids']]\n",
    "                 + model_out[-1,pars['Iasym_ids']]\n",
    "                 + model_out[-1,pars['Hsub_ids']]\n",
    "                 + model_out[-1,pars['Hcri_ids']]\n",
    "                 + model_out[-1,pars['D_ids']]\n",
    "                 + model_out[-1,pars['R_ids']]\n",
    "                 + model_out[-1,pars['Isym_pos_ids']]\n",
    "                 + model_out[-1,pars['Iasym_pos_ids']]\n",
    "                 + model_out[-1,pars['R_pos_ids']])\n",
    "\n",
    "tot_cases = np.sum(model_out[-1,pars['Hsub_ids']]\n",
    "                 + model_out[-1,pars['Hcri_ids']]\n",
    "                 + model_out[-1,pars['D_ids']]\n",
    "                 + model_out[-1,pars['Isym_pos_ids']]\n",
    "                 + model_out[-1,pars['Iasym_pos_ids']]\n",
    "                 + model_out[-1,pars['R_pos_ids']])\n",
    "\n",
    "tot_released = np.sum(model_out[-1,pars['S_pos_ids']]\n",
    "                  + model_out[-1,pars['E_pos_ids']]\n",
    "                  + model_out[-1,pars['Isym_pos_ids']]\n",
    "                  + model_out[-1,pars['Iasym_pos_ids']]\n",
    "                  + model_out[-1,pars['R_pos_ids']])"
   ]
  },
  {
   "cell_type": "code",
   "execution_count": 8,
   "metadata": {},
   "outputs": [
    {
     "data": {
      "text/plain": [
       "772131.8502721719"
      ]
     },
     "execution_count": 8,
     "metadata": {},
     "output_type": "execute_result"
    }
   ],
   "source": [
    "tot_deaths"
   ]
  },
  {
   "cell_type": "code",
   "execution_count": null,
   "metadata": {},
   "outputs": [],
   "source": []
  },
  {
   "cell_type": "code",
   "execution_count": null,
   "metadata": {},
   "outputs": [],
   "source": []
  },
  {
   "cell_type": "code",
   "execution_count": null,
   "metadata": {},
   "outputs": [],
   "source": []
  },
  {
   "cell_type": "code",
   "execution_count": null,
   "metadata": {},
   "outputs": [],
   "source": []
  },
  {
   "cell_type": "code",
   "execution_count": null,
   "metadata": {},
   "outputs": [],
   "source": []
  },
  {
   "cell_type": "code",
   "execution_count": null,
   "metadata": {},
   "outputs": [],
   "source": []
  },
  {
   "cell_type": "code",
   "execution_count": null,
   "metadata": {},
   "outputs": [],
   "source": []
  },
  {
   "cell_type": "code",
   "execution_count": null,
   "metadata": {},
   "outputs": [],
   "source": []
  },
  {
   "cell_type": "code",
   "execution_count": null,
   "metadata": {},
   "outputs": [],
   "source": []
  },
  {
   "cell_type": "code",
   "execution_count": null,
   "metadata": {},
   "outputs": [],
   "source": []
  }
 ],
 "metadata": {
  "kernelspec": {
   "display_name": "Python 3",
   "language": "python",
   "name": "python3"
  },
  "language_info": {
   "codemirror_mode": {
    "name": "ipython",
    "version": 3
   },
   "file_extension": ".py",
   "mimetype": "text/x-python",
   "name": "python",
   "nbconvert_exporter": "python",
   "pygments_lexer": "ipython3",
   "version": "3.7.3"
  }
 },
 "nbformat": 4,
 "nbformat_minor": 2
}
