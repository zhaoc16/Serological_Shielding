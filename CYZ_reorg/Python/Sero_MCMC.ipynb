{
 "cells": [
  {
   "cell_type": "markdown",
   "metadata": {},
   "source": [
    "# Parameter Sweep\n",
    "Last Edit: 07.19.2020 CYZ \n",
    "\n",
    "This code perfoms a parameter sweep"
   ]
  },
  {
   "cell_type": "code",
   "execution_count": 1,
   "metadata": {},
   "outputs": [],
   "source": [
    "import numpy as np\n",
    "import pandas as pd\n",
    "from scipy import integrate\n",
    "\n",
    "from utils.seir_model import seir_model_shields_rcfc_nolatent_time"
   ]
  },
  {
   "cell_type": "markdown",
   "metadata": {},
   "source": [
    "# Define MCMC Wrapper"
   ]
  },
  {
   "cell_type": "code",
   "execution_count": 33,
   "metadata": {},
   "outputs": [],
   "source": [
    "def seir_solve_parms(Thetas, CombPars):\n",
    "    # Model\n",
    "    t0 = 0\n",
    "    tf = pars['nDays']\n",
    "    tstep = 1 # day\n",
    "    t = np.arange(t0,tf+tstep, tstep)\n",
    "    \n",
    "    CombPars[1]['R0'] = Thetas[0]\n",
    "    CombPars[1]['q'] = Thetas[1]\n",
    "    \n",
    "    # Run Model\n",
    "    model_out = integrate.odeint(seir_model_shields_rcfc_nolatent_time\n",
    "                                 , X0\n",
    "                                 , t\n",
    "                                 , args=(CombPars,))#, rtol = 1, hmax=0.1, )\n",
    "    \n",
    "    Y = model_out[:,pars['D_ids']].sum(axis=1) \n",
    "\n",
    "    return(Y)"
   ]
  },
  {
   "cell_type": "markdown",
   "metadata": {},
   "source": [
    "# Parameters"
   ]
  },
  {
   "cell_type": "code",
   "execution_count": 34,
   "metadata": {},
   "outputs": [],
   "source": [
    "# Obtain defaults by executing 'set_default_parms.py' script\n",
    "exec(open('utils/set_default_parms.py').read())\n",
    "\n",
    "# returns: pars, epiPars, contactPars, intvPars, inits, X0"
   ]
  },
  {
   "cell_type": "markdown",
   "metadata": {},
   "source": [
    "# Run Baseline Model"
   ]
  },
  {
   "cell_type": "code",
   "execution_count": 35,
   "metadata": {
    "scrolled": true
   },
   "outputs": [],
   "source": [
    "# Model\n",
    "t0 = 0\n",
    "tf = pars['nDays']\n",
    "tstep = 1 # day\n",
    "t = np.arange(t0,tf+tstep, tstep)\n",
    "combPars = list((pars, epiPars, contactPars, intvPars))\n",
    "\n",
    "\n",
    "# Run Model\n",
    "model_out = integrate.odeint(seir_model_shields_rcfc_nolatent_time\n",
    "                             , X0\n",
    "                             , t\n",
    "                             , args=(combPars,))#, rtol = 1, hmax=0.1, )"
   ]
  },
  {
   "cell_type": "code",
   "execution_count": 37,
   "metadata": {
    "scrolled": false
   },
   "outputs": [],
   "source": [
    "# corrupt model with noise\n",
    "Y = model_out[:,pars['D_ids']].sum(axis=1) \n",
    "Y = np.round(Y/100)*100  # Rounding to hundredths might be enough noise.\n",
    "\n",
    "# Let's fit R0 and q\n",
    "thetas = np.zeros(2)\n",
    "thetas\n",
    "Y_prop = seir_solve_parms(thetas, combPars)"
   ]
  },
  {
   "cell_type": "markdown",
   "metadata": {},
   "source": [
    "# Get Outputs"
   ]
  },
  {
   "cell_type": "code",
   "execution_count": 5,
   "metadata": {},
   "outputs": [],
   "source": [
    "tot_deaths = np.sum(model_out[-1, pars['D_ids']])\n",
    "\n",
    "tot_infec = np.sum(model_out[-1,pars['Isym_ids']]\n",
    "                 + model_out[-1,pars['Iasym_ids']]\n",
    "                 + model_out[-1,pars['Hsub_ids']]\n",
    "                 + model_out[-1,pars['Hcri_ids']]\n",
    "                 + model_out[-1,pars['D_ids']]\n",
    "                 + model_out[-1,pars['R_ids']]\n",
    "                 + model_out[-1,pars['Isym_pos_ids']]\n",
    "                 + model_out[-1,pars['Iasym_pos_ids']]\n",
    "                 + model_out[-1,pars['R_pos_ids']])\n",
    "\n",
    "tot_cases = np.sum(model_out[-1,pars['Hsub_ids']]\n",
    "                 + model_out[-1,pars['Hcri_ids']]\n",
    "                 + model_out[-1,pars['D_ids']]\n",
    "                 + model_out[-1,pars['Isym_pos_ids']]\n",
    "                 + model_out[-1,pars['Iasym_pos_ids']]\n",
    "                 + model_out[-1,pars['R_pos_ids']])\n",
    "\n",
    "tot_released = np.sum(model_out[-1,pars['S_pos_ids']]\n",
    "                  + model_out[-1,pars['E_pos_ids']]\n",
    "                  + model_out[-1,pars['Isym_pos_ids']]\n",
    "                  + model_out[-1,pars['Iasym_pos_ids']]\n",
    "                  + model_out[-1,pars['R_pos_ids']])"
   ]
  },
  {
   "cell_type": "code",
   "execution_count": 6,
   "metadata": {},
   "outputs": [
    {
     "data": {
      "text/plain": [
       "948634.678032529"
      ]
     },
     "execution_count": 6,
     "metadata": {},
     "output_type": "execute_result"
    }
   ],
   "source": [
    "tot_deaths"
   ]
  },
  {
   "cell_type": "code",
   "execution_count": null,
   "metadata": {},
   "outputs": [],
   "source": []
  },
  {
   "cell_type": "code",
   "execution_count": null,
   "metadata": {},
   "outputs": [],
   "source": []
  },
  {
   "cell_type": "code",
   "execution_count": null,
   "metadata": {},
   "outputs": [],
   "source": []
  },
  {
   "cell_type": "code",
   "execution_count": null,
   "metadata": {},
   "outputs": [],
   "source": []
  },
  {
   "cell_type": "code",
   "execution_count": null,
   "metadata": {},
   "outputs": [],
   "source": []
  },
  {
   "cell_type": "code",
   "execution_count": null,
   "metadata": {},
   "outputs": [],
   "source": []
  },
  {
   "cell_type": "code",
   "execution_count": null,
   "metadata": {},
   "outputs": [],
   "source": []
  },
  {
   "cell_type": "code",
   "execution_count": null,
   "metadata": {},
   "outputs": [],
   "source": []
  },
  {
   "cell_type": "code",
   "execution_count": null,
   "metadata": {},
   "outputs": [],
   "source": []
  },
  {
   "cell_type": "code",
   "execution_count": null,
   "metadata": {},
   "outputs": [],
   "source": []
  }
 ],
 "metadata": {
  "kernelspec": {
   "display_name": "Python 3",
   "language": "python",
   "name": "python3"
  },
  "language_info": {
   "codemirror_mode": {
    "name": "ipython",
    "version": 3
   },
   "file_extension": ".py",
   "mimetype": "text/x-python",
   "name": "python",
   "nbconvert_exporter": "python",
   "pygments_lexer": "ipython3",
   "version": "3.7.3"
  }
 },
 "nbformat": 4,
 "nbformat_minor": 2
}
